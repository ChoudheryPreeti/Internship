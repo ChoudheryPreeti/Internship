{
 "cells": [
  {
   "cell_type": "code",
   "execution_count": null,
   "id": "d82616e1-738e-40c3-84da-3b473be7653f",
   "metadata": {},
   "outputs": [],
   "source": [
    "1.##a Python program to check that a string contains only a certain set of characters (in this case a-z, A-Z and 0-9).##"
   ]
  },
  {
   "cell_type": "code",
   "execution_count": 16,
   "id": "4b6082b3-9e32-46cb-8549-e4c72b9cb4b6",
   "metadata": {},
   "outputs": [
    {
     "name": "stdout",
     "output_type": "stream",
     "text": [
      "True\n",
      "False\n"
     ]
    }
   ],
   "source": [
    "import regex as re\n",
    "def Text(string):\n",
    "    string=re.compile(r\"[^A-Z0-9a-z$]\").search(string)\n",
    "    return not bool(string)\n",
    "print(Text(\"PreeNave8AVI9870\")) \n",
    "print(Text(\"@*%^&*&$#\"))"
   ]
  },
  {
   "cell_type": "code",
   "execution_count": null,
   "id": "3015e580-4982-478c-8844-957ce607ccdd",
   "metadata": {},
   "outputs": [],
   "source": [
    "2.##a function in python that matches a string that has an a followed by zero or more b's##"
   ]
  },
  {
   "cell_type": "code",
   "execution_count": 133,
   "id": "bde60a5b-e40a-4835-b4d5-b90408a8d287",
   "metadata": {},
   "outputs": [
    {
     "name": "stdout",
     "output_type": "stream",
     "text": [
      "True\n",
      "False\n",
      "True\n",
      "True\n",
      "False\n"
     ]
    }
   ],
   "source": [
    "import regex as re\n",
    "def Text(string):\n",
    "    if re.search(\"^ab*$\",string):\n",
    "        return 'True'\n",
    "    else:\n",
    "        return 'False'\n",
    "print(Text('a'))\n",
    "print(Text('b'))\n",
    "print(Text('ab'))\n",
    "print(Text('abbb'))\n",
    "print(Text('bbbb'))"
   ]
  },
  {
   "cell_type": "code",
   "execution_count": null,
   "id": "8e80db1f-b02b-4876-aba6-03a5d9e0857a",
   "metadata": {},
   "outputs": [],
   "source": [
    "3.##a function in python that matches a string that has an a followed by one or more b's##"
   ]
  },
  {
   "cell_type": "code",
   "execution_count": 370,
   "id": "efed345c-8ce1-4cc0-97c4-989494dcf082",
   "metadata": {},
   "outputs": [
    {
     "name": "stdout",
     "output_type": "stream",
     "text": [
      "False\n",
      "False\n",
      "True\n",
      "True\n",
      "False\n"
     ]
    }
   ],
   "source": [
    "import regex as re\n",
    "def Text(string):\n",
    "    if re.search(\"^ab+$\",string):\n",
    "        return 'True'\n",
    "    else:\n",
    "        return 'False'\n",
    "print(Text('a'))\n",
    "print(Text('b'))\n",
    "print(Text('ab'))\n",
    "print(Text('abbb'))\n",
    "print(Text('bbbb'))"
   ]
  },
  {
   "cell_type": "code",
   "execution_count": null,
   "id": "8e11ec3d-c42e-4dfc-b253-1125f01df5b5",
   "metadata": {},
   "outputs": [],
   "source": [
    "4.##a function in Python and use RegEx that matches a string that has an a followed by zero or one 'b'.##"
   ]
  },
  {
   "cell_type": "code",
   "execution_count": 369,
   "id": "3901159e-fddf-4d66-ba29-666d40da1ccf",
   "metadata": {},
   "outputs": [
    {
     "name": "stdout",
     "output_type": "stream",
     "text": [
      "True\n",
      "False\n",
      "True\n",
      "False\n",
      "False\n"
     ]
    }
   ],
   "source": [
    "import regex as re\n",
    "def Text(string):\n",
    "    if re.search(\"^ab?$\",string):\n",
    "        return 'True'\n",
    "    else:\n",
    "        return 'False'\n",
    "print(Text('a'))\n",
    "print(Text('b'))\n",
    "print(Text('ab'))\n",
    "print(Text('abbb'))\n",
    "print(Text('bbbb'))"
   ]
  },
  {
   "cell_type": "code",
   "execution_count": null,
   "id": "f544031d-75f2-4a49-a36c-67df01f36715",
   "metadata": {},
   "outputs": [],
   "source": [
    "5.##a Python program that matches a string that has an a followed by three 'b'.##"
   ]
  },
  {
   "cell_type": "code",
   "execution_count": 368,
   "id": "a017e76d-ae5b-4ebb-a13c-fd4c029017c4",
   "metadata": {},
   "outputs": [
    {
     "name": "stdout",
     "output_type": "stream",
     "text": [
      "False\n",
      "False\n",
      "False\n",
      "True\n",
      "False\n"
     ]
    }
   ],
   "source": [
    "import regex as re\n",
    "def Text(string):\n",
    "    if re.search(\"^ab{3}$\",string):\n",
    "        return 'True'\n",
    "    else:\n",
    "        return 'False'\n",
    "print(Text('a'))\n",
    "print(Text('b'))\n",
    "print(Text('ab'))\n",
    "print(Text('abbb'))\n",
    "print(Text('bbbb'))"
   ]
  },
  {
   "cell_type": "code",
   "execution_count": null,
   "id": "916edbed-b984-4128-947e-49092a51de72",
   "metadata": {},
   "outputs": [],
   "source": [
    "6.##regular expression in Python to split a string into uppercase letters.##"
   ]
  },
  {
   "cell_type": "code",
   "execution_count": 367,
   "id": "9c27d072-e3d9-48d7-aeeb-5ce6042c8834",
   "metadata": {},
   "outputs": [
    {
     "name": "stdout",
     "output_type": "stream",
     "text": [
      "['Importance', 'Of', 'Regular', 'Expressions', 'In', 'Python']\n"
     ]
    }
   ],
   "source": [
    "import regex as re\n",
    "sample_text=\"ImportanceOfRegularExpressionsInPython\"\n",
    "output=re.findall(\"[A-Z][^A-Z]+\",sample_text)\n",
    "print(output)"
   ]
  },
  {
   "cell_type": "code",
   "execution_count": null,
   "id": "869dee1f-5b27-461b-a91d-90bc0c86f450",
   "metadata": {},
   "outputs": [],
   "source": [
    "7.##a Python program that matches a string that has an a followed by two to three 'b'##"
   ]
  },
  {
   "cell_type": "code",
   "execution_count": 366,
   "id": "cec24fa3-2b0b-44c5-bbe0-e80104997816",
   "metadata": {},
   "outputs": [
    {
     "name": "stdout",
     "output_type": "stream",
     "text": [
      "False\n",
      "False\n",
      "True\n",
      "True\n",
      "False\n"
     ]
    }
   ],
   "source": [
    "import regex as re\n",
    "def Text(string):\n",
    "    if re.search(\"^ab{2,3}$\",string):\n",
    "        return 'True'\n",
    "    else:\n",
    "        return 'False'\n",
    "print(Text('a'))\n",
    "print(Text('b'))\n",
    "print(Text('abb'))\n",
    "print(Text('abbb'))\n",
    "print(Text('bbbb'))"
   ]
  },
  {
   "cell_type": "code",
   "execution_count": null,
   "id": "1b50b9a4-def3-4a43-aba0-14ebd02b7351",
   "metadata": {},
   "outputs": [],
   "source": [
    "8.##a Python program to find sequences of lowercase letters joined with a underscore.##"
   ]
  },
  {
   "cell_type": "code",
   "execution_count": 365,
   "id": "2d0d12dd-25db-419e-8eca-48c4925f6084",
   "metadata": {},
   "outputs": [
    {
     "name": "stdout",
     "output_type": "stream",
     "text": [
      "False\n",
      "True\n"
     ]
    }
   ],
   "source": [
    "import regex as re\n",
    "def Text(string):\n",
    "    if re.search(\"^[a-z]+_[a-z]+$\",string):\n",
    "        return 'True'\n",
    "    else:\n",
    "        return 'False'\n",
    "print(Text(\"abbaab_CbaabbC\"))\n",
    "print(Text(\"accabb_abbccbc\"))"
   ]
  },
  {
   "cell_type": "code",
   "execution_count": null,
   "id": "b43adf32-c7f2-4126-8992-345a830addeb",
   "metadata": {},
   "outputs": [],
   "source": [
    "9.##a Python program that matches a string that has an 'a' followed by anything, ending in 'b'.##"
   ]
  },
  {
   "cell_type": "code",
   "execution_count": 364,
   "id": "5cfb9d9d-5f63-4e56-b63e-2503a10f7ae1",
   "metadata": {},
   "outputs": [
    {
     "name": "stdout",
     "output_type": "stream",
     "text": [
      "True\n",
      "False\n",
      "True\n"
     ]
    }
   ],
   "source": [
    "import regex as re\n",
    "def Text(string):\n",
    "    if re.search(\"^a.*?b$\",string):\n",
    "        return 'True'\n",
    "    else:\n",
    "        return 'False'\n",
    "print(Text(\"ayionfscjunb\"))\n",
    "print(Text(\"atksdujnvdtimh\"))\n",
    "print(Text(\"aiklrdhuib\"))"
   ]
  },
  {
   "cell_type": "code",
   "execution_count": null,
   "id": "0a5d74ef-5a63-42f3-b00a-556efd5779c3",
   "metadata": {},
   "outputs": [],
   "source": [
    "10.##a Python program that matches a word at the beginning of a string##"
   ]
  },
  {
   "cell_type": "code",
   "execution_count": 363,
   "id": "db766395-7a2f-47d6-9b6b-8df4e1aace67",
   "metadata": {},
   "outputs": [
    {
     "name": "stdout",
     "output_type": "stream",
     "text": [
      "My\n"
     ]
    }
   ],
   "source": [
    "import regex as re\n",
    "string=\"My Name is Preeti Choudhery\"\n",
    "result=re.search('^\\w+',string)\n",
    "print(result.group())"
   ]
  },
  {
   "cell_type": "code",
   "execution_count": null,
   "id": "ef73df84-a062-43e5-aff2-a9d2798c39f3",
   "metadata": {},
   "outputs": [],
   "source": [
    "11.##a Python program to match a string that contains only upper and lowercase letters, numbers, and underscores.##"
   ]
  },
  {
   "cell_type": "code",
   "execution_count": 362,
   "id": "db921bc4-458b-49a6-b1f4-430ff686ed80",
   "metadata": {},
   "outputs": [
    {
     "name": "stdout",
     "output_type": "stream",
     "text": [
      "False\n",
      "True\n"
     ]
    }
   ],
   "source": [
    "import regex as re\n",
    "def Text(string):\n",
    "    if re.search(\"^[a-zA-Z0-9_]*$\",string):\n",
    "        return 'True'\n",
    "    else:\n",
    "        return 'False'\n",
    "\n",
    "print(Text(\"My Name is Preeti Choudhery\"))\n",
    "print(Text(\"I_Read_in_class_12\"))"
   ]
  },
  {
   "cell_type": "code",
   "execution_count": null,
   "id": "6d56708c-ee62-4850-a82b-da9d8ca3286f",
   "metadata": {},
   "outputs": [],
   "source": [
    "12.##a Python program where a string will start with a specific number.##"
   ]
  },
  {
   "cell_type": "code",
   "execution_count": 361,
   "id": "f1df090d-ff6d-4d16-af57-f81fcc804155",
   "metadata": {},
   "outputs": [
    {
     "name": "stdout",
     "output_type": "stream",
     "text": [
      "True\n",
      "False\n",
      "True\n",
      "False\n"
     ]
    }
   ],
   "source": [
    "import regex as re\n",
    "def Text(string):\n",
    "    x=re.compile(r\"^2\")\n",
    "    if x.match(string):\n",
    "        return 'True'\n",
    "    else:\n",
    "        return 'False'\n",
    "print(Text(\"212987\"))\n",
    "print(Text(\"958741\"))\n",
    "print(Text(\"2987152\"))\n",
    "print(Text(\"12347854\"))"
   ]
  },
  {
   "cell_type": "code",
   "execution_count": null,
   "id": "b72599cc-3621-46a9-9a06-cfe25af800a8",
   "metadata": {},
   "outputs": [],
   "source": [
    "13.##a Python program to remove leading zeros from an IP address##"
   ]
  },
  {
   "cell_type": "code",
   "execution_count": 360,
   "id": "a85c53ab-9287-4332-98df-a591faba37a1",
   "metadata": {},
   "outputs": [
    {
     "name": "stdout",
     "output_type": "stream",
     "text": [
      "241:9:1c44:73a4:4e1:c235:9e3e:17\n"
     ]
    }
   ],
   "source": [
    "import regex as re\n",
    "IP = \"241:009:1c44:73a4:04e1:c235:9e3e:017\"\n",
    "result = re.sub(\":0*\",\":\",IP)\n",
    "print(result)"
   ]
  },
  {
   "cell_type": "code",
   "execution_count": null,
   "id": "3ad16649-7d65-4aa5-a4c1-603cd0ebbeb4",
   "metadata": {},
   "outputs": [],
   "source": [
    "14.##a regular expression in python to match a date string in the form of Month name followed by day number and year stored in a text file.##"
   ]
  },
  {
   "cell_type": "code",
   "execution_count": 359,
   "id": "e94b9b4a-d5c7-47b8-a9c3-e5be9038657a",
   "metadata": {},
   "outputs": [
    {
     "name": "stdout",
     "output_type": "stream",
     "text": [
      "August 15th 1947\n"
     ]
    }
   ],
   "source": [
    "import regex as re\n",
    "sample_text=\"On August 15th 1947 that India was declared independent from British colonialism, and the reins of control were handed over to the leaders of the Country.\"\n",
    "output=re.search(r\"([A-Z][a-z]+) (\\d{1,2})\\w{2} (\\d{4})\",sample_text)\n",
    "print(output.group())"
   ]
  },
  {
   "cell_type": "code",
   "execution_count": null,
   "id": "189ea012-fc84-48f5-b855-301a212c35f1",
   "metadata": {},
   "outputs": [],
   "source": [
    "15.##a Python program to search some literals strings in a string##"
   ]
  },
  {
   "cell_type": "code",
   "execution_count": 274,
   "id": "8ce7edce-679d-49ee-afb3-03d9f78a927b",
   "metadata": {},
   "outputs": [
    {
     "name": "stdout",
     "output_type": "stream",
     "text": [
      "fox\n",
      "dog\n"
     ]
    }
   ],
   "source": [
    "import regex as re\n",
    "sample_text ='The quick brown fox jumps over the lazy dog.'\n",
    "for match in re.finditer('fox',sample_text):\n",
    "    print(match.group())\n",
    "for match in re.finditer('dog',sample_text):\n",
    "    print(match.group())\n",
    "for match in re.finditer('horse',sample_text):\n",
    "    print(match)"
   ]
  },
  {
   "cell_type": "code",
   "execution_count": null,
   "id": "141d4228-608f-45e2-b2ac-3ffbb89dd3db",
   "metadata": {},
   "outputs": [],
   "source": [
    "16.##a Python program to search a literals string in a string and also find the location within the original string where the pattern occurs##"
   ]
  },
  {
   "cell_type": "code",
   "execution_count": 272,
   "id": "21e59e32-94e9-4d2a-9872-ad2ff1ef1e0d",
   "metadata": {},
   "outputs": [
    {
     "name": "stdout",
     "output_type": "stream",
     "text": [
      "fox\n",
      "(16, 19)\n"
     ]
    }
   ],
   "source": [
    "import regex as re\n",
    "sample_text ='The quick brown fox jumps over the lazy dog.'\n",
    "for match in re.finditer('fox',sample_text):\n",
    "    print(match.group())\n",
    "for match in re.finditer('fox',sample_text):\n",
    "    print(match.span())"
   ]
  },
  {
   "cell_type": "code",
   "execution_count": null,
   "id": "b6d93068-396a-451a-b78c-fee1ce9ceb86",
   "metadata": {},
   "outputs": [],
   "source": [
    "17.##a Python program to find the substrings within a string.##"
   ]
  },
  {
   "cell_type": "code",
   "execution_count": 267,
   "id": "95a8105c-e44a-445c-8ee5-f4263d4a0dd4",
   "metadata": {},
   "outputs": [
    {
     "name": "stdout",
     "output_type": "stream",
     "text": [
      "exercises\n",
      "exercises\n",
      "exercises\n"
     ]
    }
   ],
   "source": [
    "import regex as re\n",
    "sample_text ='Python exercises, PHP exercises, C# exercises'\n",
    "for match in re.finditer('exercises',sample_text):\n",
    "    print(match.group())"
   ]
  },
  {
   "cell_type": "code",
   "execution_count": null,
   "id": "14604057-b4bc-4605-acdd-b42650ba0792",
   "metadata": {},
   "outputs": [],
   "source": [
    "18.##a Python program to find the occurrence and position of the substrings within a string.##"
   ]
  },
  {
   "cell_type": "code",
   "execution_count": 358,
   "id": "7c372330-e8a5-476f-8e0d-2255864e9ede",
   "metadata": {},
   "outputs": [
    {
     "name": "stdout",
     "output_type": "stream",
     "text": [
      "(7, 16)\n",
      "(22, 31)\n",
      "(36, 45)\n"
     ]
    }
   ],
   "source": [
    "import regex as re\n",
    "text ='Python exercises, PHP exercises, C# exercises'\n",
    "for match in re.finditer('exercises', text):\n",
    "    print(match.span())"
   ]
  },
  {
   "cell_type": "code",
   "execution_count": null,
   "id": "ff799f69-e910-4b2a-ab99-44f8ed47af06",
   "metadata": {},
   "outputs": [],
   "source": [
    "19.##a Python program to convert a date of yyyy-mm-dd format to dd-mm-yyyy format.##"
   ]
  },
  {
   "cell_type": "code",
   "execution_count": 357,
   "id": "cede96e8-d51d-4b57-8c05-97945a376f67",
   "metadata": {},
   "outputs": [
    {
     "name": "stdout",
     "output_type": "stream",
     "text": [
      "1991-07-11\n",
      "11-07-1991\n"
     ]
    }
   ],
   "source": [
    "import regex as re\n",
    "original_date_x=\"1991-07-11\"\n",
    "date_y=re.sub(r'(\\d{4})-(\\d{1,2})-(\\d{1,2})', '\\\\3-\\\\2-\\\\1',original_date)\n",
    "print(original_date_x)\n",
    "print(date_y)"
   ]
  },
  {
   "cell_type": "code",
   "execution_count": null,
   "id": "9330d94d-524c-408c-8ec7-e1491f911ed5",
   "metadata": {},
   "outputs": [],
   "source": [
    "20.##Python program to find all words starting with 'a' or 'e' in a given string##"
   ]
  },
  {
   "cell_type": "code",
   "execution_count": 356,
   "id": "cfb6888b-855f-4e37-9bcb-962198764bc5",
   "metadata": {},
   "outputs": [
    {
     "name": "stdout",
     "output_type": "stream",
     "text": [
      "['apple', 'a', 'edible', 'an', 'apple', 'are', 'and', 'are']\n"
     ]
    }
   ],
   "source": [
    "import regex as re\n",
    "sample_text=\"An apple is a round, edible fruit produced by an apple tree (Malus domestica). Apple trees are cultivated worldwide and are the most widely grown species in the genus malus\"\n",
    "x = re.findall(r\"\\b[ae]\\w*\\b\", sample_text)\n",
    "print(x)"
   ]
  },
  {
   "cell_type": "code",
   "execution_count": null,
   "id": "16ddcf44-11d1-49e8-944e-31a0760b6312",
   "metadata": {},
   "outputs": [],
   "source": [
    "21.##a Python program to separate and print the numbers and their position of a given string.##"
   ]
  },
  {
   "cell_type": "code",
   "execution_count": 308,
   "id": "7e62d366-d836-444b-863b-84e2c24ca6e5",
   "metadata": {},
   "outputs": [
    {
     "name": "stdout",
     "output_type": "stream",
     "text": [
      "43 Position is: (24, 26)\n",
      "91 Position is: (41, 43)\n"
     ]
    }
   ],
   "source": [
    "import regex as re\n",
    "sample_text=\"Rohit Sharma has scored 43 centuries and 91 halfcenturies in his cricket career\"\n",
    "for match in re.finditer(\"\\d+\",sample_text):\n",
    "    print(match.group(),\"Position is:\",match.span())"
   ]
  },
  {
   "cell_type": "code",
   "execution_count": null,
   "id": "b92de76e-1419-4b37-b0ed-6b10d88e439a",
   "metadata": {},
   "outputs": [],
   "source": [
    "22.##a regular expression in python program to extract maximum numeric value from a string##"
   ]
  },
  {
   "cell_type": "code",
   "execution_count": 318,
   "id": "fd0d25cc-1db7-4905-902c-71af25896b17",
   "metadata": {},
   "outputs": [
    {
     "name": "stdout",
     "output_type": "stream",
     "text": [
      "585\n"
     ]
    }
   ],
   "source": [
    "import regex as re\n",
    "string=\"preeti585naveen346aviraj123\"\n",
    "number=max(re.findall(\"\\d+\",string))\n",
    "print(number)"
   ]
  },
  {
   "cell_type": "code",
   "execution_count": null,
   "id": "2f2f1fd1-585c-4b8e-a824-6e9689b5cbc0",
   "metadata": {},
   "outputs": [],
   "source": [
    "23.##a Regex in Python to put spaces between words starting with capital letters##"
   ]
  },
  {
   "cell_type": "code",
   "execution_count": 320,
   "id": "39450606-347a-4648-9c5a-6aa89bc245c4",
   "metadata": {},
   "outputs": [
    {
     "name": "stdout",
     "output_type": "stream",
     "text": [
      "My Name Is Preeti Choudhery\n"
     ]
    }
   ],
   "source": [
    "import regex as re\n",
    "string='MyNameIsPreetiChoudhery'\n",
    "result=re.sub(r\"(\\w)([A-Z])\", r\"\\1 \\2\",string)\n",
    "print(result)"
   ]
  },
  {
   "cell_type": "code",
   "execution_count": null,
   "id": "b0161c97-10fb-4f0e-a36a-b8a022a195b1",
   "metadata": {},
   "outputs": [],
   "source": [
    "24.##a Python regex to find sequences of one upper case letter followed by lower case letters##"
   ]
  },
  {
   "cell_type": "code",
   "execution_count": 355,
   "id": "cf7aa27b-4631-47df-b9f2-cdc269521220",
   "metadata": {},
   "outputs": [
    {
     "name": "stdout",
     "output_type": "stream",
     "text": [
      "True\n",
      "False\n",
      "False\n",
      "True\n"
     ]
    }
   ],
   "source": [
    "import regex as re\n",
    "def text(string):\n",
    "    if re.search('[A-Z]+[a-z]+', string):\n",
    "        return 'True'\n",
    "    else:\n",
    "        return 'False'\n",
    "print(text(\"Prenav\"))\n",
    "print(text(\"apple\"))\n",
    "print(text(\"MOTIVATION\"))\n",
    "print(text(\"DetERminE\"))"
   ]
  },
  {
   "cell_type": "code",
   "execution_count": null,
   "id": "03deb0b8-f877-471f-b196-53e14c8e08da",
   "metadata": {},
   "outputs": [],
   "source": [
    "25.##a Python program to remove duplicate words from Sentence using Regular Expression##"
   ]
  },
  {
   "cell_type": "code",
   "execution_count": 107,
   "id": "43a98797-d40c-45ac-8081-d354b2e2e7fa",
   "metadata": {},
   "outputs": [
    {
     "name": "stdout",
     "output_type": "stream",
     "text": [
      "Hello my name is Preeti\n"
     ]
    }
   ],
   "source": [
    "import regex as re\n",
    "string=\"Hello Hello my name name is Preeti\"\n",
    "regex=r'\\b(\\w+)(?:\\W+\\1\\b)+'\n",
    "x=re.sub(regex,r'\\1',string)\n",
    "print(x)"
   ]
  },
  {
   "cell_type": "code",
   "execution_count": null,
   "id": "5d62f29c-3b54-49fc-a216-0531d2e8ea86",
   "metadata": {},
   "outputs": [],
   "source": [
    "26.##a python program using RegEx to accept string ending with alphanumeric character.##"
   ]
  },
  {
   "cell_type": "code",
   "execution_count": 338,
   "id": "0567c240-6ee8-4ad7-9d33-fb609281e7a9",
   "metadata": {},
   "outputs": [
    {
     "name": "stdout",
     "output_type": "stream",
     "text": [
      "True\n",
      "False\n",
      "True\n"
     ]
    }
   ],
   "source": [
    "import regex as re\n",
    "def text(string):\n",
    "    if re.search('[a-zA-Z0-9]$',string):\n",
    "        return 'True'\n",
    "    else:\n",
    "        return'False'\n",
    "print(text('Preeti123'))\n",
    "print(text('preeti@'))\n",
    "print(text('preeti456'))"
   ]
  },
  {
   "cell_type": "code",
   "execution_count": null,
   "id": "dd36987a-d742-40f1-ac87-705bbb680fb7",
   "metadata": {},
   "outputs": [],
   "source": [
    "27.##a python program using RegEx to extract the hashtags.##"
   ]
  },
  {
   "cell_type": "code",
   "execution_count": 351,
   "id": "f39f7a5c-e8c1-4299-83bd-a4aa9e07fa1d",
   "metadata": {},
   "outputs": [
    {
     "name": "stdout",
     "output_type": "stream",
     "text": [
      "['#Doltiwal', '#xyzabc', '#Demonetization']\n"
     ]
    }
   ],
   "source": [
    "import regex as re\n",
    "sample_text= \"\"\"RT @kapil_kausik: #Doltiwal I mean #xyzabc is \"hurt\" by #Demonetization as the same has rendered USELESS <ed><U+00A0><U+00BD><ed><U+00B1><U+0089> \"acquired funds\" No wo\"\"\"\n",
    "sample_text_list=['#Doltiwal', '#xyzabc', '#Demonetization']\n",
    "result=re.findall(r\"\\#\\w+\",sample_text)\n",
    "print(result)"
   ]
  },
  {
   "cell_type": "code",
   "execution_count": null,
   "id": "c58268fc-f586-4fb0-81fd-2397b2d3f9c3",
   "metadata": {},
   "outputs": [],
   "source": [
    "28.##a python program using RegEx to remove <U+..> like symbols##"
   ]
  },
  {
   "cell_type": "code",
   "execution_count": 410,
   "id": "05787aa5-43ac-433d-9efd-bedc6049a59e",
   "metadata": {},
   "outputs": [
    {
     "name": "stdout",
     "output_type": "stream",
     "text": [
      "@Jags123456 Bharat band on 28??<ed><ed>Those who  are protesting #demonetization  are all different party leaders\n"
     ]
    }
   ],
   "source": [
    "import regex as re\n",
    "sample_text=\"@Jags123456 Bharat band on 28??<ed><U+00A0><U+00BD><ed><U+00B8><U+0082>Those who  are protesting #demonetization  are all different party leaders\"\n",
    "result=re.sub(\"<U+.*?>\",\"\",sample_text)\n",
    "print(result)"
   ]
  },
  {
   "cell_type": "code",
   "execution_count": null,
   "id": "2c6758b9-fd68-467a-9f76-e5edb92fbfb3",
   "metadata": {},
   "outputs": [],
   "source": [
    "29.##a python program to extract dates from the text stored in the text file##"
   ]
  },
  {
   "cell_type": "code",
   "execution_count": 354,
   "id": "d05a76ba-5bad-47a5-ac58-e7f6be0ff2b4",
   "metadata": {},
   "outputs": [
    {
     "name": "stdout",
     "output_type": "stream",
     "text": [
      "['12-09-1992', '15-12-1999']\n"
     ]
    }
   ],
   "source": [
    "import regex as re\n",
    "with open(\"C:/Users/NAVEEN/OneDrive/Documents/date_related.txt\") as file:\n",
    "    for line in file:\n",
    "        date=re.findall(\"\\d{2}.\\d{2}.\\d{4}\",line)\n",
    "print(date)"
   ]
  },
  {
   "cell_type": "code",
   "execution_count": null,
   "id": "e93b65b9-4432-46b2-9536-3b736f17c4b5",
   "metadata": {},
   "outputs": [],
   "source": [
    "30.##a Python program to replace all occurrences of a space, comma, or dot with a colon##"
   ]
  },
  {
   "cell_type": "code",
   "execution_count": 414,
   "id": "0bbd5157-b49d-401e-b762-2199524a3b7b",
   "metadata": {},
   "outputs": [
    {
     "name": "stdout",
     "output_type": "stream",
     "text": [
      "Python:Exercises::PHP:exercises:\n"
     ]
    }
   ],
   "source": [
    "import regex as re\n",
    "sample_text='Python Exercises, PHP exercises.'\n",
    "result=re.sub(\"[ ,.]\", \":\", sample_text)\n",
    "print(result)"
   ]
  },
  {
   "cell_type": "code",
   "execution_count": null,
   "id": "adafdb37-263e-48d3-9c83-1305bd13d734",
   "metadata": {},
   "outputs": [],
   "source": []
  }
 ],
 "metadata": {
  "kernelspec": {
   "display_name": "Python 3 (ipykernel)",
   "language": "python",
   "name": "python3"
  },
  "language_info": {
   "codemirror_mode": {
    "name": "ipython",
    "version": 3
   },
   "file_extension": ".py",
   "mimetype": "text/x-python",
   "name": "python",
   "nbconvert_exporter": "python",
   "pygments_lexer": "ipython3",
   "version": "3.10.7"
  }
 },
 "nbformat": 4,
 "nbformat_minor": 5
}
